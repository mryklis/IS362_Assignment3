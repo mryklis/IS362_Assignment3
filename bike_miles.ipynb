{
 "cells": [
  {
   "cell_type": "markdown",
   "metadata": {},
   "source": [
    "# This is my representation of total miles"
   ]
  },
  {
   "cell_type": "markdown",
   "metadata": {},
   "source": [
    "The first step was to determine the distance from NYC to Key West, Florida.\n",
    "According to google maps it is 1520 miles. approximately 126 hours.\n",
    "google estimates that your ride approximately 12 miles per hour to achive the time frame."
   ]
  },
  {
   "cell_type": "code",
   "execution_count": 19,
   "metadata": {
    "collapsed": false
   },
   "outputs": [
    {
     "data": {
      "text/plain": [
       "12.063492063492063"
      ]
     },
     "execution_count": 19,
     "metadata": {},
     "output_type": "execute_result"
    }
   ],
   "source": [
    "1520/126"
   ]
  },
  {
   "cell_type": "markdown",
   "metadata": {},
   "source": [
    "I made some additional assumptions to fill in the gaps.\n",
    "- ride approximately 8 hours a day"
   ]
  },
  {
   "cell_type": "code",
   "execution_count": 20,
   "metadata": {
    "collapsed": false
   },
   "outputs": [
    {
     "data": {
      "text/plain": [
       "15.75"
      ]
     },
     "execution_count": 20,
     "metadata": {},
     "output_type": "execute_result"
    }
   ],
   "source": [
    "126/8"
   ]
  },
  {
   "cell_type": "markdown",
   "metadata": {},
   "source": [
    "so we need approximately 16 days to complete the journey.\n",
    "I also assumed that we should add approxiamtely 30 miles for detours == 1550 miles\n",
    "and add another 2 days for inclement weather, bike repairs, fatigue, and injury == 18 days"
   ]
  },
  {
   "cell_type": "markdown",
   "metadata": {},
   "source": [
    "##  The function below was taken from stackoverflow\n",
    "I wanted to randomly generate the miles rode per day.\n",
    "http://stackoverflow.com/questions/3589214/generate-multiple-random-numbers-to-equal-a-value-in-python\n",
    "\n",
    "I feel it is not necessary to re-invent the wheel if this function was readily available. \n",
    "The function takes two values; n = number of items in the array, and total = sum of the values"
   ]
  },
  {
   "cell_type": "code",
   "execution_count": 3,
   "metadata": {
    "collapsed": true
   },
   "outputs": [],
   "source": [
    "import random\n",
    "\n",
    "\n",
    "def random_miles(n, total):\n",
    "    \"\"\"Return a randomly chosen list of n positive integers summing to total.\n",
    "    Each such list is equally likely to occur.\"\"\"\n",
    "\n",
    "    dividers = sorted(random.sample(range(1, total), n - 1))\n",
    "    return [a - b for a, b in zip(dividers + [total], [0] + dividers)]"
   ]
  },
  {
   "cell_type": "markdown",
   "metadata": {},
   "source": [
    "running the function with the assumed values 18, 1550. the function produces an array with reasonable values. I confirmed that it sums up to 1550 with \n",
    "```\n",
    "print(sum(miles))\n",
    "```"
   ]
  },
  {
   "cell_type": "code",
   "execution_count": 4,
   "metadata": {
    "collapsed": false
   },
   "outputs": [
    {
     "name": "stdout",
     "output_type": "stream",
     "text": [
      "[38, 41, 61, 127, 176, 140, 17, 147, 52, 75, 116, 73, 100, 34, 52, 89, 162, 50]\n"
     ]
    }
   ],
   "source": [
    "miles = random_miles(18, 1550)\n",
    "print (miles)"
   ]
  },
  {
   "cell_type": "code",
   "execution_count": 5,
   "metadata": {
    "collapsed": false
   },
   "outputs": [
    {
     "name": "stdout",
     "output_type": "stream",
     "text": [
      "1550\n"
     ]
    }
   ],
   "source": [
    "print (sum(miles))"
   ]
  },
  {
   "cell_type": "markdown",
   "metadata": {},
   "source": [
    "I also needed to produce a corresponding list that sums up the total miles after each day. sum_l"
   ]
  },
  {
   "cell_type": "code",
   "execution_count": 11,
   "metadata": {
    "collapsed": false
   },
   "outputs": [
    {
     "name": "stdout",
     "output_type": "stream",
     "text": [
      "[38, 79, 140, 267, 443, 583, 600, 747, 799, 874, 990, 1063, 1163, 1197, 1249, 1338, 1500, 1550]\n"
     ]
    }
   ],
   "source": [
    "sum = 0\n",
    "sum_l = []\n",
    "for i in miles:\n",
    "    sum += i\n",
    "    sum_l.append(sum)\n",
    "print (sum_l)"
   ]
  },
  {
   "cell_type": "markdown",
   "metadata": {},
   "source": [
    "Then I combines the two lists into one list of tuples bike_miles"
   ]
  },
  {
   "cell_type": "code",
   "execution_count": 13,
   "metadata": {
    "collapsed": false
   },
   "outputs": [
    {
     "name": "stdout",
     "output_type": "stream",
     "text": [
      "[(38, 38), (41, 79), (61, 140), (127, 267), (176, 443), (140, 583), (17, 600), (147, 747), (52, 799), (75, 874), (116, 990), (73, 1063), (100, 1163), (34, 1197), (52, 1249), (89, 1338), (162, 1500), (50, 1550)]\n"
     ]
    }
   ],
   "source": [
    "bike_miles = list(zip(miles,sum_l))\n",
    "print (bike_miles)"
   ]
  },
  {
   "cell_type": "markdown",
   "metadata": {},
   "source": [
    "Finally, I used pandas to create a data frame set to represent the miles rode by day and total miles summed per day. I created the column headings: daily_miles and sum_miles"
   ]
  },
  {
   "cell_type": "code",
   "execution_count": 16,
   "metadata": {
    "collapsed": false
   },
   "outputs": [
    {
     "name": "stdout",
     "output_type": "stream",
     "text": [
      "    daily_miles  sum_miles\n",
      "0            38         38\n",
      "1            41         79\n",
      "2            61        140\n",
      "3           127        267\n",
      "4           176        443\n",
      "5           140        583\n",
      "6            17        600\n",
      "7           147        747\n",
      "8            52        799\n",
      "9            75        874\n",
      "10          116        990\n",
      "11           73       1063\n",
      "12          100       1163\n",
      "13           34       1197\n",
      "14           52       1249\n",
      "15           89       1338\n",
      "16          162       1500\n",
      "17           50       1550\n"
     ]
    }
   ],
   "source": [
    "import pandas as pd\n",
    "df = pd.DataFrame(data = bike_miles, columns=['daily_miles', 'sum_miles'])\n",
    "print (df)"
   ]
  },
  {
   "cell_type": "markdown",
   "metadata": {},
   "source": [
    "and for practice I created an output to csv"
   ]
  },
  {
   "cell_type": "code",
   "execution_count": 18,
   "metadata": {
    "collapsed": true
   },
   "outputs": [],
   "source": [
    "df.to_csv('bike_miles.csv',index=True,header=True)"
   ]
  }
 ],
 "metadata": {
  "anaconda-cloud": {},
  "kernelspec": {
   "display_name": "Python [default]",
   "language": "python",
   "name": "python3"
  },
  "language_info": {
   "codemirror_mode": {
    "name": "ipython",
    "version": 3
   },
   "file_extension": ".py",
   "mimetype": "text/x-python",
   "name": "python",
   "nbconvert_exporter": "python",
   "pygments_lexer": "ipython3",
   "version": "3.5.2"
  }
 },
 "nbformat": 4,
 "nbformat_minor": 1
}
